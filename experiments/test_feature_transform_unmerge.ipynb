{
 "cells": [
  {
   "cell_type": "code",
   "execution_count": 1,
   "metadata": {},
   "outputs": [],
   "source": [
    "import json\n",
    "import pandas as pd\n",
    "import numpy as np\n",
    "from operator import itemgetter\n",
    "from sklearn.metrics.pairwise import cosine_similarity\n",
    "from sklearn.metrics import pairwise_distances\n",
    "from sklearn.manifold import MDS\n",
    "%matplotlib inline\n",
    "import matplotlib.pyplot as plt\n",
    "import seaborn as sns; sns.set()"
   ]
  },
  {
   "cell_type": "code",
   "execution_count": 2,
   "metadata": {},
   "outputs": [],
   "source": [
    "def load_dict_from_json(file_path):\n",
    "    \"\"\"\n",
    "    Load content from file then parse it to dictionary\n",
    "\n",
    "    Args:\n",
    "        file_path (TYPE): Description\n",
    "\n",
    "    Returns:\n",
    "        TYPE: Description\n",
    "    \"\"\"\n",
    "#     logger.debug('load_dict_to_json: %s', locals())\n",
    "    data = {}\n",
    "    with open(file_path, 'r') as file:\n",
    "        text = file.read()\n",
    "        temp = json.loads(text)\n",
    "        data = temp\n",
    "#         logger.debug('data: %s', data)\n",
    "\n",
    "#     logger.debug('number of keys: %s', len(data))\n",
    "    return data\n",
    "\n",
    "def load_concept_definition(file_path):\n",
    "    \"\"\"Summary\n",
    "\n",
    "    Args:\n",
    "        file_path (TYPE): Description\n",
    "\n",
    "    Returns:\n",
    "        TYPE: Description\n",
    "\n",
    "    No Longer Raises:\n",
    "        e: Description\n",
    "    \"\"\"\n",
    "    concepts = dict()\n",
    "    data = load_dict_from_json(file_path)\n",
    "    for f in data['definition']:\n",
    "        conceptid = f['conceptid']\n",
    "        concepts[conceptid] = dict()\n",
    "        concepts[conceptid]['type'] = f['type']\n",
    "        concepts[conceptid]['min_value'] = f['min_value']\n",
    "        concepts[conceptid]['max_value'] = f['max_value']\n",
    "        concepts[conceptid]['multiply'] = f['multiply']\n",
    "        concepts[conceptid]['data'] = dict()\n",
    "        for v in f['data']:\n",
    "            concepts[conceptid]['data'][v['value']] = v['id']\n",
    "\n",
    "        concepts[conceptid]['segments'] = dict()\n",
    "        for s in f['segments']:\n",
    "            concepts[conceptid]['segments'][s['value']] = s['id']\n",
    "\n",
    "        concepts[conceptid]['hashmaps'] = dict()\n",
    "        for h in f['hashmaps']:\n",
    "            concepts[conceptid]['hashmaps'][h['value']] = h['hash']\n",
    "\n",
    "    item2concept = dict()\n",
    "    for c in data['item2concept']:\n",
    "        item2concept[c['itemid']] = c['conceptid']\n",
    "\n",
    "    return concepts, item2concept"
   ]
  },
  {
   "cell_type": "code",
   "execution_count": 3,
   "metadata": {},
   "outputs": [],
   "source": [
    "# Test call shell script in Python\n",
    "#!/usr/bin/python\n",
    "import subprocess\n",
    "def call_shell(filename):\n",
    "    with open(filename, 'rb') as file:\n",
    "        script = file.read()\n",
    "    rc = subprocess.call(script, shell=True)\n",
    "\n",
    "def call_shell(script):\n",
    "    rc = subprocess.call(script, shell=True)\n"
   ]
  },
  {
   "cell_type": "code",
   "execution_count": null,
   "metadata": {},
   "outputs": [],
   "source": [
    "# Generate QUERY_PATH\n",
    "# itemids = [123456, \n",
    "\n",
    "\n",
    "# print(\"start\")\n",
    "# script = 'sleep 10\\n'\n",
    "# script += '../feature_transformation/feature2vec.exe print-feature-vectors %s %s %s' % (\n",
    "#     MODEL_PATH, QUERY_PATH, OUTPUT_PATH)\n",
    "# call_shell(script)\n",
    "# print(\"end\")"
   ]
  },
  {
   "cell_type": "code",
   "execution_count": 4,
   "metadata": {},
   "outputs": [],
   "source": [
    "concepts_def, _ = load_concept_definition('../data/concept_definition.json')\n",
    "# concepts_def[300003]"
   ]
  },
  {
   "cell_type": "code",
   "execution_count": 5,
   "metadata": {},
   "outputs": [],
   "source": [
    "# CONSTANTS\n",
    "MODEL_NAME = \"skipgram_ce_nm_05M\"\n",
    "MODEL_PATH = '../models/%s.bin' % MODEL_NAME\n",
    "OUTPUT_VEC_PATH = '../models/%s.vec' % MODEL_NAME"
   ]
  },
  {
   "cell_type": "markdown",
   "metadata": {},
   "source": [
    "## Load vectors of features from OUTPUT_VEC_PATH\n"
   ]
  },
  {
   "cell_type": "code",
   "execution_count": 8,
   "metadata": {},
   "outputs": [
    {
     "name": "stdout",
     "output_type": "stream",
     "text": [
      "nb_feature: 12294\n",
      "dim: 100\n"
     ]
    }
   ],
   "source": [
    "content = []\n",
    "with open(OUTPUT_VEC_PATH) as f:\n",
    "    content = f.readlines()\n",
    "# remove whitespace characters like `\\n` at the end of each line\n",
    "content = [x.strip() for x in content]\n",
    "\n",
    "# the first line is: [number of feature] [dimension]\n",
    "nb_feature, dim = content[0].split()\n",
    "nb_feature = int(nb_feature)\n",
    "dim = int(dim)\n",
    "print('nb_feature: %s\\ndim: %s' % (nb_feature, dim))"
   ]
  },
  {
   "cell_type": "code",
   "execution_count": 9,
   "metadata": {},
   "outputs": [
    {
     "data": {
      "text/plain": [
       "'300001,3356228888,-0.58395 -0.03284 0.36123 -0.058787 0.30393 0.10599 -0.26872 0.10693 -0.35057 -0.09294 0.239 0.075657 0.014232 -0.12011 -0.3889 -0.25704 -0.39978 0.42794 0.27651 -0.049918 -0.16609 0.3126 -0.41953 0.52887 -0.42692 -0.016051 -0.024419 0.072918 -0.038326 0.092855 0.11552 -0.085042 -0.29981 0.28921 -0.39245 -0.20393 -0.030589 -0.3325 -0.13472 -0.024563 -0.0032178 -0.34488 0.41051 0.045124 0.11164 0.078869 -0.2236 0.16242 0.19733 0.15668 -0.36725 -0.015332 0.40591 0.56096 -0.093343 0.18661 0.58051 0.24461 0.25334 -0.18769 0.19698 -0.083105 0.1047 -0.050309 -0.060759 -0.31934 -0.02605 -0.043323 0.13165 0.28211 -0.2641 0.27547 -0.33006 -0.14847 -0.12159 -0.20631 -0.10068 0.061011 -0.093097 0.085649 0.01922 0.15706 -0.06737 -0.3675 0.053821 -0.54329 -0.045001 0.52168 0.29349 0.1732 0.18379 -0.084531 0.25761 0.25739 -0.011094 0.53182 0.18012 0.1224 -0.071183 -0.025661'"
      ]
     },
     "execution_count": 9,
     "metadata": {},
     "output_type": "execute_result"
    }
   ],
   "source": [
    "content[1]"
   ]
  },
  {
   "cell_type": "code",
   "execution_count": 64,
   "metadata": {},
   "outputs": [
    {
     "name": "stdout",
     "output_type": "stream",
     "text": [
      "\n",
      "Out of features: dict_keys([])\n",
      "Number of concepts: 1590\n",
      "Number of <concept, value>: 12294\n",
      "count_concept_morethan3values= 353\n"
     ]
    }
   ],
   "source": [
    "output_feature_dict = dict()\n",
    "total_features = 0\n",
    "oof_feature_dict = dict() # out of feature\n",
    "for line in content[1:]:\n",
    "    x = line.split(',')\n",
    "    assert len(x) == 3, 'INVALID FORMAT: %s' % x\n",
    "    \n",
    "    conceptid = int(x[0])\n",
    "    assert conceptid in concepts_def.keys(), 'conceptid=%s does not exist' % conceptid\n",
    "    concept = concepts_def[conceptid]\n",
    "        \n",
    "    v = [float(i) for i in x[2].split()]\n",
    "    assert len(v) == dim, \"Dimension of vector is invalid\"\n",
    "    \n",
    "    value = int(x[1])\n",
    "    # 0 if is_number else 1\n",
    "    if concept['type'] == 0:\n",
    "        if value < concept['min_value']:\n",
    "            value = concept['min_value'] - 1\n",
    "        elif value > concept['max_value']:\n",
    "            value = concept['max_value'] + 1\n",
    "            \n",
    "    # \n",
    "    if value not in concepts_def[conceptid]['data'].keys():\n",
    "        print('cannot find index of conceptid=%s, value=%s\\nLine: %s' % (\n",
    "            conceptid, value, line))\n",
    "        if conceptid not in oof_feature_dict.keys():\n",
    "            oof_feature_dict[conceptid] = [value]\n",
    "        else:\n",
    "            oof_feature_dict[conceptid].append(value)\n",
    "    else:\n",
    "        if conceptid in output_feature_dict.keys():\n",
    "            output_feature_dict[conceptid][value] = v\n",
    "        else:\n",
    "            output_feature_dict[conceptid] = dict()\n",
    "            output_feature_dict[conceptid][value] = v\n",
    "        total_features += 1\n",
    "\n",
    "print('\\nOut of features: %s' % oof_feature_dict.keys())\n",
    "print('Number of concepts:', len(output_feature_dict.keys()))\n",
    "print('Number of <concept, value>:', total_features)\n",
    "\n",
    "count_concept_morethan3values = 0\n",
    "for c_id in output_feature_dict.keys():\n",
    "    if concepts_def[c_id]['type'] == 0 and len(output_feature_dict[c_id]) > 3:\n",
    "        count_concept_morethan3values += 1\n",
    "print('count_concept_morethan3values=', count_concept_morethan3values)"
   ]
  },
  {
   "cell_type": "markdown",
   "metadata": {},
   "source": [
    "### 1. Experiments with numeric features\n",
    "\n",
    "Difference between cosine_similarity and distance\n",
    "```\n",
    "a = np.array([1, 0, -1]).reshape(1, -1)\n",
    "b = np.array([-1,-1, 0]).reshape(1, -1)\n",
    "sim = cosine_similarity(a, b)[0][0]\n",
    "print(sim)\n",
    "print(np.linalg.norm(a-b))\n",
    "\n",
    "-0.4999999999999999\n",
    "2.449489742783178\n",
    "```"
   ]
  },
  {
   "cell_type": "code",
   "execution_count": 85,
   "metadata": {},
   "outputs": [],
   "source": [
    "def calculate_distances(conceptid, output_feature_dict):\n",
    "    '''\n",
    "    Check distances: for example, the original values are v1=10, v2=15, v3=16, v4=20\n",
    "        d(v1, v4) > d(v1, v3) > d(v1, v2)\n",
    "        * d is distance function\n",
    "    then their corresponding vectors must keep the original distance: \n",
    "        d(vector_1, vector_4) > d(vector_1, vector_3) > d(vector_1, vector_2)\n",
    "    '''\n",
    "    if conceptid not in output_feature_dict.keys():\n",
    "        # print('Conceptid=%s does not exist in definition' % conceptid)\n",
    "        return None, None, None, None\n",
    "    \n",
    "    violate_distance = False\n",
    "    \n",
    "    # print('Concerned concept: id=%s' % (conceptid))\n",
    "    vectors = [(value, np.array(vector).reshape(1, -1)) for value, vector in output_feature_dict[concerned_id].items()]\n",
    "    vectors = sorted(vectors, key=itemgetter(0), reverse=False)\n",
    "    # print('Sorted vectors', vectors)\n",
    "    \n",
    "    # calculate distance between each vector with the vector of min value\n",
    "    distances = list()\n",
    "    min_value, min_vector = vectors[0]\n",
    "    for index, (value, vector) in enumerate(vectors):\n",
    "        d = np.linalg.norm(vector - min_vector)\n",
    "        distances.append(d)\n",
    "        if len(distances) > 1:\n",
    "            if distances[-1] < distances[-2]:\n",
    "                violate_distance = True\n",
    "#                 print('ERROR: Distance(%s, %s) is smaller than distance(%s, %s)' % (\n",
    "#                     min_value, value, min_value, vectors[index-1][0]))\n",
    "\n",
    "    # extract vectors and original values\n",
    "    X = np.concatenate([vector for _, vector in vectors])\n",
    "    y = np.array([value for value, _ in vectors])\n",
    "    # print('X.shape:', X.shape)\n",
    "    # print('y.shape:', y.shape)\n",
    "    return X, y, violate_distance, distances"
   ]
  },
  {
   "cell_type": "code",
   "execution_count": 40,
   "metadata": {},
   "outputs": [],
   "source": [
    "# visualize\n",
    "def plot_MDS(*data, fname=None):\n",
    "    '''\n",
    "    graph after MDS\n",
    "    :param data: train_data, train_value\n",
    "    :return: None\n",
    "    '''\n",
    "    D, y = data\n",
    "    mds = MDS(n_components=2, dissimilarity='precomputed', random_state=1)\n",
    "    X_r = mds.fit_transform(D)\n",
    "\n",
    "    ### graph\n",
    "    fig = plt.figure()\n",
    "    ax = fig.add_subplot(1,1,1)\n",
    "    \n",
    "    # method 1\n",
    "    plt.scatter(X_r[:, 0], X_r[:, 1])\n",
    "    for i, txt in enumerate(y):\n",
    "        ax.annotate(txt, (X_r[i, 0] + 0.05, X_r[i, 1] + 0.05))\n",
    "    \n",
    "    # method 2\n",
    "#     colors=((1,0,0),(0,1,0),(0,0,1),(0.5,0.5,0),(0,0.5,0.5),(0.5,0,0.5),\n",
    "#         (0.4,0.6,0),(0.6,0.4,0),(0,0.6,0.4),(0.5,0.3,0.2),)\n",
    "#     for label ,color in zip( np.unique(y),colors):\n",
    "#         position=y==label\n",
    "#         ax.scatter(X_r[position,0],X_r[position,1],label=\"target= {0}\".format(label),color=color)\n",
    "#     ax.legend(loc=\"best\")\n",
    "\n",
    "    ax.set_xlabel(\"X[0]\")\n",
    "    ax.set_ylabel(\"X[1]\")\n",
    "    ax.set_title(\"MDS\")\n",
    "    plt.axis('equal')\n",
    "    \n",
    "    if fname is not None:\n",
    "        plt.savefig(fname)\n",
    "    plt.show()"
   ]
  },
  {
   "cell_type": "code",
   "execution_count": 83,
   "metadata": {},
   "outputs": [
    {
     "name": "stdout",
     "output_type": "stream",
     "text": [
      "type= 0\n",
      "Is violate?: True\n",
      "distances:  [0.0, 1.2152402426624695, 0.7254141274748603, 0.8300446714248566, 1.0165293584436643, 1.3234448432596722, 0.8695235089537269, 0.8725296799906913, 0.7637272693781387, 0.7441477147685183, 1.1570892639442507, 1.133878660548737, 0.8221391763265378, 0.9706858175152546, 1.2286942823589715, 0.9490911934978998, 0.8519448258053206, 0.8985862514635522, 0.9089487213628273, 0.859767868730963, 0.8318940077359063, 0.9228392802246705, 1.0160356907532275, 0.97292136885184, 0.8984003266276055, 0.999034570411654, 0.8474925970743686, 0.905628874742588, 1.1288910688454783, 1.1395568348292673, 0.9714999442173542, 1.0957278547706535, 1.173600395003831, 1.1856876123422468, 1.1802324256160088, 1.0850660951232687, 1.1440595547853172, 1.302168029508727, 1.1717710234931686, 1.3352273339733416, 1.249681584904262, 1.2606827527037474, 1.198022731393344, 1.2495350915249515, 1.2423040972134254, 1.350633578562851, 1.3435324811724272, 1.2816428311193482, 1.4207227405620795, 1.4692365022663134, 1.4785909245148328, 1.487113113617343, 1.3652311453418466, 1.3688764540075113, 1.4977163867786913, 1.57894960217847, 1.367906708669391, 1.424431556039529, 1.5851056758959317, 1.594593630807068, 1.646901029787367, 1.7345067376830128, 1.8622972089363954, 1.8928518218917554, 1.9247291250698313, 2.017695559280505, 1.9115532056706082, 1.9503106048762433, 1.8903991371825524, 1.9485574261622813, 2.0120233068242293, 2.1050716131546565, 2.1585130856105614, 2.2412522499030243, 2.289784922332859, 2.373366511100863, 2.6461579402685977, 2.787644668322948, 2.875319286972866, 2.7807725595664072, 2.810307331078321, 2.832002271129729, 3.300098170097795, 3.27787389111924, 3.2417154734165026]\n"
     ]
    }
   ],
   "source": [
    "concerned_id = 211\n",
    "print('type=', concepts_def[concerned_id]['type'])\n",
    "X, y, violate_distance, distances = calculate_distances(concerned_id, output_feature_dict)\n",
    "print('Is violate?:', violate_distance)\n",
    "print('distances: ', distances)"
   ]
  },
  {
   "cell_type": "code",
   "execution_count": 84,
   "metadata": {},
   "outputs": [
    {
     "data": {
      "image/png": "[encoded data removed]",
      "text/plain": [
       "<Figure size 432x288 with 1 Axes>"
      ]
     },
     "metadata": {
      "needs_background": "light"
     },
     "output_type": "display_data"
    }
   ],
   "source": [
    "D = pairwise_distances(X)\n",
    "plot_MDS(D, y, fname='%s.png' % concerned_id)"
   ]
  },
  {
   "cell_type": "markdown",
   "metadata": {},
   "source": [
    "#### 1.1 Count number of numeric features violates distance"
   ]
  },
  {
   "cell_type": "code",
   "execution_count": 87,
   "metadata": {},
   "outputs": [
    {
     "name": "stdout",
     "output_type": "stream",
     "text": [
      "Number of violated concepts: 679/679 ~ 100.0 percent \n",
      "\n",
      "Violated concept ids:[300003, 300004, 1540, 443, 227449, 6186, 189, 225813, 225672, 227446, 224, 225641, 225175, 225313, 226457, 59, 224685, 226730, 223768, 224697, 791, 224328, 1520, 1286, 226108, 226063, 227073, 220293, 220088, 226537, 227461, 220624, 228098, 224562, 227867, 220061, 589, 52, 1695, 227368, 225103, 224643, 224966, 223835, 228232, 225124, 227351, 220274, 227439, 223901, 1530, 71, 223810, 8370, 224738, 512, 430, 227717, 220339, 228345, 227369, 1624, 224965, 920, 797, 226544, 497, 827, 495, 223761, 6185, 224331, 422, 220765, 858, 442, 1424, 662, 226135, 5814, 1742, 223821, 627, 227443, 814, 224916, 228102, 1127, 228337, 227538, 1162, 220051, 220050, 226534, 224710, 8449, 227345, 225636, 220228, 223834, 227465, 521, 436, 224055, 223769, 224056, 227809, 450, 802, 227356, 1528, 227357, 225112, 513, 227802, 803, 227923, 824, 224332, 817, 220060, 825, 490, 1616, 55, 224639, 224421, 227342, 224924, 225634, 224751, 220052, 1535, 62, 223820, 224417, 6208, 227242, 223770, 227468, 228412, 226113, 1538, 220074, 780, 225695, 131, 664, 92, 492, 225210, 227367, 227537, 631, 225693, 227471, 228230, 227441, 652, 227130, 821, 532, 5817, 225087, 227348, 227287, 64, 224367, 5819, 778, 1126, 227775, 228336, 224366, 225228, 225092, 227343, 228099, 813, 223806, 829, 227349, 1705, 455, 833, 227360, 220224, 798, 227344, 1397, 223773, 679, 223752, 224153, 225677, 471, 184, 1596, 225690, 225106, 1390, 224754, 225190, 2287, 227918, 223872, 224059, 227464, 185, 228137, 219, 848, 723, 227363, 225091, 227930, 226107, 581, 220180, 224839, 8484, 228096, 815, 224686, 805, 850, 225637, 228411, 779, 494, 224647, 228396, 226179, 5818, 227365, 223873, 225185, 837, 763, 60, 228004, 473, 228346, 223751, 220602, 226114, 226707, 580, 227293, 225070, 225086, 225184, 220072, 223679, 225310, 456, 1541, 785, 226109, 651, 844, 225117, 225671, 626, 1697, 860, 227810, 602, 861, 226540, 225684, 186, 223960, 227919, 8371, 586, 220632, 225639, 666, 224838, 226169, 228100, 588, 619, 223766, 823, 228234, 224663, 595, 506, 227866, 224661, 224917, 8551, 5815, 1706, 220073, 227860, 421, 227350, 227516, 439, 8440, 226253, 226185, 220047, 225074, 855, 225771, 224923, 223811, 225723, 1565, 223772, 224054, 228236, 1525, 678, 50, 818, 733, 224752, 5820, 788, 223963, 224755, 211, 220066, 223874, 519, 734, 227447, 194, 227580, 8552, 228229, 226499, 226117, 224154, 225729, 227547, 721, 5816, 1542, 7151, 153, 614, 225640, 784, 227543, 1533, 224161, 682, 459, 224330, 220046, 226846, 220615, 8553, 601, 431, 1402, 789, 853, 1529, 223962, 220635, 227455, 227442, 228395, 225612, 226228, 226889, 66, 517, 220645, 224846, 6702, 90, 226473, 3005, 223848, 224151, 226129, 228344, 543, 225192, 227858, 224168, 198, 224837, 504, 1534, 225674, 225188, 5813, 224641, 225309, 227926, 773, 224952, 227456, 226, 87, 224951, 223817, 224662, 220063, 228231, 806, 225625, 228394, 224688, 225724, 225082, 8448, 225183, 227932, 530, 226871, 224191, 8441, 227352, 224169, 440, 615, 224684, 224646, 220210, 775, 224845, 227454, 224422, 225067, 228410, 224695, 220235, 768, 220581, 227546, 220058, 811, 224410, 1707, 227358, 220734, 838, 6206, 225094, 224058, 220739, 223818, 190, 491, 220546, 225187, 224753, 227292, 1696, 8491, 226118, 220292, 227579, 1704, 224631, 224665, 227444, 1527, 625, 227448, 781, 535, 224150, 224145, 225312, 225722, 226094, 719, 223849, 225118, 227341, 223814, 227243, 684, 226134, 225638, 227801, 223958, 69, 8483, 225642, 8495, 856, 8550, 224144, 2139, 225206, 220181, 223767, 225189, 224711, 1523, 228299, 220056, 227688, 224564, 227429, 225668, 8549, 226115, 225643, 227346, 227457, 227861, 224842, 220621, 227872, 70, 225732, 225133, 772, 1982, 227470, 796, 227582, 225105, 808, 224057, 472, 225698, 224687, 225624, 6701, 770, 226139, 224828, 1536, 226180, 836, 762, 116, 6207, 226138, 228334, 227925, 220045, 226121, 220179, 799, 226873, 676, 777, 223819, 224411, 226096, 220587, 225113, 1391, 8548, 228343, 223765, 792, 26, 227466, 226137, 225076, 1532, 434, 227366, 807, 226381, 226062, 220603, 224149, 67, 444, 227566, 227565, 224152, 835, 828, 224409, 224162, 227864, 224700, 683, 226531, 227359, 224690, 223762, 646, 686, 226543, 228409, 225280, 220644, 226512, 89, 223805, 816, 224329, 227933, 227463, 8554, 113, 225078, 677, 227467, 227066, 417, 786, 618, 227916, 1524, 800, 8368, 223753, 8555, 225126, 578, 1546, 223876, 227716, 228101, 449, 220059, 8547, 225725, 1401, 223900, 226329, 227445, 224167, 141, 1521, 225628, 220545, 859, 223830, 225358, 225730, 225667, 220507, 1531, 51, 742, 225085, 224418, 225122, 224696, 795, 225209, 769, 114, 220227, 776, 1522, 834, 223791, 220277, 225110, 787, 218, 227873, 225129, 226536, 224701, 227870, 224689, 223875, 225664, 454, 227187, 58, 224563, 195, 228305, 470, 226136]\n"
     ]
    }
   ],
   "source": [
    "violated_concepts = list()\n",
    "total_numeric_concepts = 0\n",
    "for conceptid, concept in concepts_def.items():\n",
    "    if concept['type'] == 0 and conceptid in output_feature_dict.keys():\n",
    "        total_numeric_concepts += 1\n",
    "        X, y, violate_distance, distances = calculate_distances(conceptid, output_feature_dict)\n",
    "        if violate_distance is not None and violate_distance:\n",
    "            violated_concepts.append(conceptid)\n",
    "print('Number of violated concepts: %s/%s ~ %s percent \\n\\nViolated concept ids:%s' % (\n",
    "    len(violated_concepts), total_numeric_concepts, \n",
    "    len(violated_concepts)*100./total_numeric_concepts, \n",
    "    violated_concepts)\n",
    "     )"
   ]
  },
  {
   "cell_type": "markdown",
   "metadata": {},
   "source": [
    "#### 1.2 Check similarity between the dublicated concepts\n",
    "\n",
    "ONLY apply for unmerged data"
   ]
  },
  {
   "cell_type": "code",
   "execution_count": 98,
   "metadata": {},
   "outputs": [
    {
     "name": "stdout",
     "output_type": "stream",
     "text": [
      "similarity of 62: 0.12472146534276216\n",
      "similarity of 64: 0.12960925210011626\n",
      "similarity of 67: 0.1552919154714634\n",
      "similarity of 63: 0.06665541371163032\n",
      "similarity of 66: 0.13262026013080247\n",
      "similarity of 68: 0.1588435505412535\n",
      "similarity of 76: 0.156003205551435\n",
      "similarity of 65: 0.09338397517710817\n",
      "similarity of 81: 0.1624014030519876\n",
      "similarity of 72: 0.1565139652490925\n",
      "similarity of 74: 0.15441502120130451\n",
      "similarity of 94: 0.1193609574364727\n",
      "similarity of 92: 0.15476815295303575\n",
      "similarity of 89: 0.15410942257344482\n",
      "similarity of 82: 0.13289666279414508\n",
      "similarity of 87: 0.15254876455976132\n",
      "similarity of 86: 0.15323139416918913\n",
      "similarity of 88: 0.1573649028445233\n",
      "similarity of 85: 0.10678591397652111\n",
      "similarity of 84: 0.12270613361857156\n",
      "similarity of 79: 0.1639438713965776\n",
      "similarity of 80: 0.1284304996517447\n",
      "similarity of 75: 0.10981498419346347\n",
      "similarity of 73: 0.11770133396993393\n",
      "similarity of 69: 0.13920949577061495\n",
      "similarity of 78: 0.14869831182506568\n",
      "similarity of 70: 0.13121794707134782\n",
      "similarity of 83: 0.1714298984431106\n",
      "similarity of 77: 0.17041057421125555\n",
      "similarity of 71: 0.1385570070487856\n",
      "similarity of 93: 0.1678322519149244\n",
      "similarity of 98: 0.16378174673311546\n",
      "similarity of 91: 0.13048004529188026\n",
      "similarity of 97: 0.15253300888631863\n",
      "similarity of 118: 0.1658931993808913\n",
      "similarity of 99: 0.15585601508673003\n",
      "similarity of 106: 0.1518646762996448\n",
      "similarity of 111: 0.1482768391875408\n",
      "similarity of 90: 0.14597892984891073\n",
      "similarity of 115: 0.18651555760600108\n",
      "similarity of 95: 0.1330821797580141\n",
      "similarity of 103: 0.16663195399010053\n",
      "similarity of 96: 0.13974724629580595\n",
      "similarity of 107: 0.19408782229831403\n",
      "similarity of 100: 0.1268111567581597\n",
      "similarity of 102: 0.16948339571541068\n",
      "similarity of 119: 0.14791321597389948\n",
      "similarity of 105: 0.18581301752340762\n",
      "similarity of 104: 0.14254405332514092\n",
      "similarity of 120: 0.12664066224951628\n",
      "similarity of 110: 0.16683760971959607\n",
      "similarity of 113: 0.19207427356882603\n",
      "similarity of 101: 0.159344680086652\n",
      "similarity of 121: 0.15257547293691073\n",
      "similarity of 116: 0.17765203762611706\n",
      "similarity of 108: 0.16447616833666387\n",
      "similarity of 112: 0.16138800433742073\n",
      "similarity of 109: 0.1388161395770715\n",
      "similarity of 117: 0.2136249655478223\n",
      "similarity of 114: 0.2030851301205532\n"
     ]
    }
   ],
   "source": [
    "heart_rate = [211, 220045]\n",
    "data = dict()\n",
    "for idx in heart_rate:\n",
    "    data[idx] = dict()\n",
    "    for value, vector in output_feature_dict[idx].items():\n",
    "        data[idx][value] = np.array(vector).reshape(1, -1)\n",
    "\n",
    "for value, vector in data[heart_rate[0]].items():\n",
    "    if value in data[heart_rate[1]].keys():\n",
    "        co_vector = data[heart_rate[1]][value]\n",
    "        print('similarity of %s: %s' % (value, cosine_similarity(vector, co_vector)[0][0]))"
   ]
  },
  {
   "cell_type": "markdown",
   "metadata": {},
   "source": [
    "### 2. Experiments with category features"
   ]
  },
  {
   "cell_type": "code",
   "execution_count": null,
   "metadata": {},
   "outputs": [],
   "source": []
  }
 ],
 "metadata": {
  "kernelspec": {
   "display_name": "Python 3",
   "language": "python",
   "name": "python3"
  },
  "language_info": {
   "codemirror_mode": {
    "name": "ipython",
    "version": 3
   },
   "file_extension": ".py",
   "mimetype": "text/x-python",
   "name": "python",
   "nbconvert_exporter": "python",
   "pygments_lexer": "ipython3",
   "version": "3.7.0"
  }
 },
 "nbformat": 4,
 "nbformat_minor": 2
}
