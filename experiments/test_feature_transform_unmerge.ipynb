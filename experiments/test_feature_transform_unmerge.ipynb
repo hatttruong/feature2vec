{
 "cells": [
  {
   "cell_type": "code",
   "execution_count": 5,
   "metadata": {},
   "outputs": [],
   "source": [
    "# CONSTANTS\n",
    "MODEL_PATH = '../output/model_name.bin'\n",
    "QUERY_PATH = 'queries.txt'\n",
    "OUTPUT_PATH = '../output/queries_vector.txt'"
   ]
  },
  {
   "cell_type": "code",
   "execution_count": 4,
   "metadata": {},
   "outputs": [],
   "source": [
    "# Test call shell script in Python\n",
    "#!/usr/bin/python\n",
    "import subprocess\n",
    "def call_shell(filename):\n",
    "    with open(filename, 'rb') as file:\n",
    "        script = file.read()\n",
    "    rc = subprocess.call(script, shell=True)\n",
    "\n",
    "def call_shell(script):\n",
    "    rc = subprocess.call(script, shell=True)"
   ]
  },
  {
   "cell_type": "code",
   "execution_count": null,
   "metadata": {},
   "outputs": [],
   "source": [
    "# Generate QUERY_PATH\n",
    "itemids = [123456, \n"
   ]
  },
  {
   "cell_type": "code",
   "execution_count": 3,
   "metadata": {},
   "outputs": [
    {
     "name": "stdout",
     "output_type": "stream",
     "text": [
      "start\n",
      "end\n"
     ]
    }
   ],
   "source": [
    "print(\"start\")\n",
    "script = 'sleep 10\\n'\n",
    "script += '../feature_transformation/feature2vec.exe print-feature-vectors %s %s %s' % (\n",
    "    MODEL_PATH, QUERY_PATH, OUTPUT_PATH)\n",
    "call_shell(script)\n",
    "print(\"end\")"
   ]
  },
  {
   "cell_type": "code",
   "execution_count": 6,
   "metadata": {},
   "outputs": [],
   "source": [
    "# load vectors of features from OUTPUT_PATH\n",
    "vector_dict = dict()"
   ]
  },
  {
   "cell_type": "code",
   "execution_count": 7,
   "metadata": {},
   "outputs": [],
   "source": [
    "# calculate distance between each vector with the vector of min value\n"
   ]
  },
  {
   "cell_type": "code",
   "execution_count": null,
   "metadata": {},
   "outputs": [],
   "source": [
    "# visualize"
   ]
  }
 ],
 "metadata": {
  "kernelspec": {
   "display_name": "Python 3",
   "language": "python",
   "name": "python3"
  },
  "language_info": {
   "codemirror_mode": {
    "name": "ipython",
    "version": 3
   },
   "file_extension": ".py",
   "mimetype": "text/x-python",
   "name": "python",
   "nbconvert_exporter": "python",
   "pygments_lexer": "ipython3",
   "version": "3.7.0"
  }
 },
 "nbformat": 4,
 "nbformat_minor": 2
}
