{
 "cells": [
  {
   "cell_type": "code",
   "execution_count": 41,
   "metadata": {},
   "outputs": [],
   "source": [
    "import json\n",
    "import pandas as pd\n",
    "import numpy as np\n",
    "from operator import itemgetter\n",
    "from sklearn.metrics.pairwise import cosine_similarity\n",
    "from sklearn.metrics import pairwise_distances\n",
    "from sklearn.manifold import MDS\n",
    "%matplotlib inline\n",
    "import matplotlib.pyplot as plt\n",
    "import seaborn as sns; sns.set()"
   ]
  },
  {
   "cell_type": "code",
   "execution_count": 2,
   "metadata": {},
   "outputs": [],
   "source": [
    "def load_dict_from_json(file_path):\n",
    "    \"\"\"\n",
    "    Load content from file then parse it to dictionary\n",
    "\n",
    "    Args:\n",
    "        file_path (TYPE): Description\n",
    "\n",
    "    Returns:\n",
    "        TYPE: Description\n",
    "    \"\"\"\n",
    "#     logger.debug('load_dict_to_json: %s', locals())\n",
    "    data = {}\n",
    "    with open(file_path, 'r') as file:\n",
    "        text = file.read()\n",
    "        temp = json.loads(text)\n",
    "        data = temp\n",
    "#         logger.debug('data: %s', data)\n",
    "\n",
    "#     logger.debug('number of keys: %s', len(data))\n",
    "    return data\n",
    "\n",
    "def load_concept_definition(file_path):\n",
    "    \"\"\"Summary\n",
    "\n",
    "    Args:\n",
    "        file_path (TYPE): Description\n",
    "\n",
    "    Returns:\n",
    "        TYPE: Description\n",
    "\n",
    "    No Longer Raises:\n",
    "        e: Description\n",
    "    \"\"\"\n",
    "    concepts = dict()\n",
    "    data = load_dict_from_json(file_path)\n",
    "    for f in data['definition']:\n",
    "        conceptid = f['conceptid']\n",
    "        concepts[conceptid] = dict()\n",
    "        concepts[conceptid]['type'] = f['type']\n",
    "        concepts[conceptid]['min_value'] = f['min_value']\n",
    "        concepts[conceptid]['max_value'] = f['max_value']\n",
    "        concepts[conceptid]['multiply'] = f['multiply']\n",
    "        concepts[conceptid]['data'] = dict()\n",
    "        for v in f['data']:\n",
    "            concepts[conceptid]['data'][v['value']] = v['id']\n",
    "\n",
    "        concepts[conceptid]['segments'] = dict()\n",
    "        for s in f['segments']:\n",
    "            concepts[conceptid]['segments'][s['value']] = s['id']\n",
    "\n",
    "        concepts[conceptid]['hashmaps'] = dict()\n",
    "        for h in f['hashmaps']:\n",
    "            concepts[conceptid]['hashmaps'][h['value']] = h['hash']\n",
    "\n",
    "    item2concept = dict()\n",
    "    for c in data['item2concept']:\n",
    "        item2concept[c['itemid']] = c['conceptid']\n",
    "\n",
    "    return concepts, item2concept"
   ]
  },
  {
   "cell_type": "code",
   "execution_count": 7,
   "metadata": {},
   "outputs": [],
   "source": [
    "# Test call shell script in Python\n",
    "#!/usr/bin/python\n",
    "import subprocess\n",
    "def call_shell(filename):\n",
    "    with open(filename, 'rb') as file:\n",
    "        script = file.read()\n",
    "    rc = subprocess.call(script, shell=True)\n",
    "\n",
    "def call_shell(script):\n",
    "    rc = subprocess.call(script, shell=True)\n"
   ]
  },
  {
   "cell_type": "code",
   "execution_count": null,
   "metadata": {},
   "outputs": [],
   "source": [
    "# Generate QUERY_PATH\n",
    "# itemids = [123456, \n",
    "\n",
    "\n",
    "# print(\"start\")\n",
    "# script = 'sleep 10\\n'\n",
    "# script += '../feature_transformation/feature2vec.exe print-feature-vectors %s %s %s' % (\n",
    "#     MODEL_PATH, QUERY_PATH, OUTPUT_PATH)\n",
    "# call_shell(script)\n",
    "# print(\"end\")"
   ]
  },
  {
   "cell_type": "code",
   "execution_count": 3,
   "metadata": {},
   "outputs": [],
   "source": [
    "concepts_def, _ = load_concept_definition('../data/concept_definition.json')\n",
    "# concepts_def[300003]"
   ]
  },
  {
   "cell_type": "code",
   "execution_count": 4,
   "metadata": {},
   "outputs": [],
   "source": [
    "# CONSTANTS\n",
    "MODEL_PATH = '../models/.bin'\n",
    "OUTPUT_VEC_PATH = '../models/skipgram_ce_nm_05M.vec'"
   ]
  },
  {
   "cell_type": "markdown",
   "metadata": {},
   "source": [
    "## Load vectors of features from OUTPUT_VEC_PATH\n"
   ]
  },
  {
   "cell_type": "code",
   "execution_count": 24,
   "metadata": {},
   "outputs": [
    {
     "name": "stdout",
     "output_type": "stream",
     "text": [
      "15416 100\n"
     ]
    }
   ],
   "source": [
    "content = []\n",
    "with open(OUTPUT_VEC_PATH) as f:\n",
    "    content = f.readlines()\n",
    "# remove whitespace characters like `\\n` at the end of each line\n",
    "content = [x.strip() for x in content]\n",
    "\n",
    "# the first line is: [number of feature] [dimension]\n",
    "nb_feature, dim = content[0].split()\n",
    "nb_feature = int(nb_feature)\n",
    "dim = int(dim)\n",
    "print('nb_feature: %s\\ndim: %s' % (nb_feature, dim))"
   ]
  },
  {
   "cell_type": "code",
   "execution_count": 25,
   "metadata": {},
   "outputs": [
    {
     "data": {
      "text/plain": [
       "'300001,M,-0.40339 -0.014414 0.056067 -0.062775 -0.015571 0.078321 -0.10093 -0.20926 0.062862 0.19595 0.076721 -0.28638 0.17626 -0.22548 -0.03928 -0.069777 0.029668 0.1857 -0.10357 0.055029 0.32938 0.062222 -0.15437 -0.068127 -0.28701 -0.12952 -0.10464 0.1441 -0.51975 -0.097975 0.098786 0.12269 0.13232 -0.17252 0.067124 -0.074376 0.45632 0.11633 0.053786 0.0488 -0.084826 -0.1321 0.15597 0.047485 -0.029231 0.085694 0.39868 0.041081 -0.42164 0.15007 0.25926 -0.18114 -0.16843 -0.0073986 0.41324 -0.12587 0.1694 0.034031 0.099439 0.1174 0.21656 0.15165 0.086598 0.0076003 0.21487 -0.13801 0.10133 -0.0077079 0.15712 -0.57432 0.17704 0.13347 0.0046729 0.10525 0.064843 -0.30139 -0.029527 0.082778 -0.079275 -0.26226 0.36256 -0.32882 0.18171 0.15792 0.029913 -0.13356 0.38723 -0.28856 -0.092924 0.1207 -0.081743 -0.3739 -0.014985 0.12197 0.065633 -0.449 0.19282 0.054779 -0.15402 -0.25893'"
      ]
     },
     "execution_count": 25,
     "metadata": {},
     "output_type": "execute_result"
    }
   ],
   "source": [
    "content[1]"
   ]
  },
  {
   "cell_type": "code",
   "execution_count": 58,
   "metadata": {},
   "outputs": [
    {
     "name": "stdout",
     "output_type": "stream",
     "text": [
      "cannot find index of conceptid=227969, value=\"Quiet\n",
      "Line: 227969,\"Quiet,0.18962 -0.035966 -0.018773 0.2747 0.15709 -0.0069322 -0.29788 -0.36765 0.1682 0.16402 -0.13962 -0.026295 -0.29794 -0.29248 0.41446 0.16417 -0.56267 0.18738 0.16543 -0.11086 0.62077 0.38575 -0.29293 0.21644 -0.30985 -0.16966 0.020461 0.13801 -0.36737 0.50682 0.16559 -0.076241 0.28506 0.01185 -0.11781 0.19223 0.1471 -0.053753 -0.12569 -0.30585 -0.043902 -0.014663 -0.47247 -0.03256 0.16333 0.25408 0.3894 -0.10529 -0.66117 0.53059 0.23545 0.05931 0.12091 -0.17511 0.10457 -0.12203 0.15733 0.1655 0.042523 0.094749 -0.098989 0.4373 0.072139 0.28232 0.36366 0.10373 -0.09844 -0.03075 0.11441 0.32775 0.12318 -0.38407 0.32801 0.00066552 0.18489 0.079976 0.30339 -0.10741 -0.060019 -0.20166 -0.20243 0.43435 0.24214 0.051876 -0.031199 -0.56672 0.029582 0.49406 0.2007 0.048603 -0.13299 0.14757 0.20776 0.49658 0.6367 0.034291 0.34205 -0.20532 -0.57322 -0.57885\n",
      "Out of features: dict_keys([227969])\n"
     ]
    }
   ],
   "source": [
    "output_feature_dict = dict()\n",
    "oof_feature_dict = dict() # out of feature\n",
    "for line in content[1:]:\n",
    "    x = line.split(',')\n",
    "    assert len(x) == 3, 'INVALID FORMAT: %s' % x\n",
    "    \n",
    "    conceptid = int(x[0])\n",
    "    assert conceptid in concepts_def.keys(), 'conceptid=%s does not exist' % conceptid\n",
    "    concept = concepts_def[conceptid]\n",
    "        \n",
    "    v = [float(i) for i in x[2].split()]\n",
    "    assert len(v) == dim, \"Dimension of vector is invalid\"\n",
    "    \n",
    "    value = int(x[1])\n",
    "    # 0 if is_number else 1\n",
    "    if concept['type'] == 0:\n",
    "        if value < concept['min_value']:\n",
    "            value = concept['min_value'] - 1\n",
    "        elif value > concept['max_value']:\n",
    "            value = concept['max_value'] + 1\n",
    "            \n",
    "    # \n",
    "    if value not in concepts_def[conceptid]['data'].keys():\n",
    "        print('cannot find index of conceptid=%s, value=%s\\nLine: %s' % (\n",
    "            conceptid, value, line))\n",
    "        if conceptid not in oof_feature_dict.keys():\n",
    "            oof_feature_dict[conceptid] = [value]\n",
    "        else:\n",
    "            oof_feature_dict[conceptid].append(value)\n",
    "    else:\n",
    "        if conceptid in output_feature_dict.keys():\n",
    "            output_feature_dict[conceptid][value] = v\n",
    "        else:\n",
    "            output_feature_dict[conceptid] = dict()\n",
    "            output_feature_dict[conceptid][value] = v\n",
    "\n",
    "print('\\nOut of features: %s' % oof_feature_dict.keys())"
   ]
  },
  {
   "cell_type": "markdown",
   "metadata": {},
   "source": [
    "### 1. Experiments with numeric features\n",
    "\n",
    "Difference between cosine_similarity and distance\n",
    "```\n",
    "a = np.array([1, 0, -1]).reshape(1, -1)\n",
    "b = np.array([-1,-1, 0]).reshape(1, -1)\n",
    "sim = cosine_similarity(a, b)[0][0]\n",
    "print(sim)\n",
    "print(np.linalg.norm(a-b))\n",
    "\n",
    "-0.4999999999999999\n",
    "2.449489742783178\n",
    "```"
   ]
  },
  {
   "cell_type": "code",
   "execution_count": 90,
   "metadata": {},
   "outputs": [],
   "source": [
    "def calculate_distances(conceptid, output_feature_dict):\n",
    "    '''\n",
    "    Check distances: for example, the original values are v1=10, v2=15, v3=16, v4=20\n",
    "        d(v1, v4) > d(v1, v3) > d(v1, v2)\n",
    "        * d is distance function\n",
    "    then their corresponding vectors must keep the original distance: \n",
    "        d(vector_1, vector_4) > d(vector_1, vector_3) > d(vector_1, vector_2)\n",
    "    '''\n",
    "    violate_distance = False\n",
    "    \n",
    "    print('Concerned concept: id=%s' % (conceptid))\n",
    "    # vectors = [(value, np.array(vector).reshape(1, -1)) \n",
    "    #            for value, vector in output_feature_dict[concerned_id].iteritems()]\n",
    "    vectors = [(1,[2,3]), (4,[5,6]), (7,[8,9])]\n",
    "    vectors = [(value, np.array(vector).reshape(1, -1)) for value, vector in vectors]\n",
    "    vectors = sorted(vectors, key=itemgetter(0), reverse=False)\n",
    "    print('Sorted vectors', vectors)\n",
    "    \n",
    "    # calculate distance between each vector with the vector of min value\n",
    "    distances = list()\n",
    "    min_value, min_vector = vectors[0]\n",
    "    for index, (value, vector) in enumerate(vectors):\n",
    "        d = np.linalg.norm(vector - min_vector)\n",
    "        distances.append(d)\n",
    "        if len(distances) > 1:\n",
    "            if distances[-1] < distances[-2]:\n",
    "                violate_distance = True\n",
    "                print('ERROR: Distance(%s, %s) is smaller than distance(%s, %s)' % (\n",
    "                    min_value, value, min_value, vectors[index-1][0]))\n",
    "\n",
    "    # extract vectors and original values\n",
    "    X = np.concatenate([vector for _, vector in vectors])\n",
    "    y = np.array([value for value, _ in vectors])\n",
    "    print('X.shape:', X.shape)\n",
    "    print('y.shape:', y.shape)\n",
    "    return X, y, violate_distance, distances"
   ]
  },
  {
   "cell_type": "code",
   "execution_count": 84,
   "metadata": {},
   "outputs": [],
   "source": [
    "# visualize\n",
    "def plot_MDS(*data, fname=None):\n",
    "    '''\n",
    "    graph after MDS\n",
    "    :param data: train_data, train_value\n",
    "    :return: None\n",
    "    '''\n",
    "    D, y = data\n",
    "    mds = MDS(n_components=2, dissimilarity='precomputed', random_state=1)\n",
    "    X_r = mds.fit_transform(D)\n",
    "\n",
    "    ### graph\n",
    "    fig = plt.figure()\n",
    "    ax = fig.add_subplot(1,1,1)\n",
    "    \n",
    "    # method 1\n",
    "    plt.scatter(X_r[:, 0], X_r[:, 1])\n",
    "    for i, txt in enumerate(y):\n",
    "        ax.annotate(txt, (X_r[i, 0] + 0.05, X_r[i, 1] + 0.05))\n",
    "    \n",
    "    # method 2\n",
    "#     colors=((1,0,0),(0,1,0),(0,0,1),(0.5,0.5,0),(0,0.5,0.5),(0.5,0,0.5),\n",
    "#         (0.4,0.6,0),(0.6,0.4,0),(0,0.6,0.4),(0.5,0.3,0.2),)\n",
    "#     for label ,color in zip( np.unique(y),colors):\n",
    "#         position=y==label\n",
    "#         ax.scatter(X_r[position,0],X_r[position,1],label=\"target= {0}\".format(label),color=color)\n",
    "#     ax.legend(loc=\"best\")\n",
    "\n",
    "    ax.set_xlabel(\"X[0]\")\n",
    "    ax.set_ylabel(\"X[1]\")\n",
    "    ax.set_title(\"MDS\")\n",
    "    plt.axis('equal')\n",
    "    \n",
    "    if fname is not None:\n",
    "        plt.savefig(fname)\n",
    "    plt.show()"
   ]
  },
  {
   "cell_type": "code",
   "execution_count": 92,
   "metadata": {},
   "outputs": [
    {
     "name": "stdout",
     "output_type": "stream",
     "text": [
      "Concerned concept: id=300003\n",
      "Sorted vectors [(1, array([[2, 3]])), (4, array([[5, 6]])), (7, array([[8, 9]]))]\n",
      "X.shape: (3, 2)\n",
      "y.shape: (3,)\n",
      "Is violate?: False\n",
      "distances:  [0.0, 4.242640687119285, 8.48528137423857]\n"
     ]
    }
   ],
   "source": [
    "concerned_id = 300003\n",
    "output_feature_dict = dict()\n",
    "X, y, violate_distance, distances = calculate_distances(concerned_id, output_feature_dict)\n",
    "print('Is violate?:', violate_distance)\n",
    "print('distances: ', distances)"
   ]
  },
  {
   "cell_type": "code",
   "execution_count": 89,
   "metadata": {},
   "outputs": [
    {
     "data": {
      "image/png": "[encoded data removed]",
      "text/plain": [
       "<Figure size 432x288 with 1 Axes>"
      ]
     },
     "metadata": {},
     "output_type": "display_data"
    }
   ],
   "source": [
    "D = pairwise_distances(X)\n",
    "plot_MDS(D, y, fname='%s.png' % concerned_id)"
   ]
  },
  {
   "cell_type": "markdown",
   "metadata": {},
   "source": [
    "#### 1.1 Count number of numeric features violates distance"
   ]
  },
  {
   "cell_type": "code",
   "execution_count": null,
   "metadata": {},
   "outputs": [],
   "source": [
    "violated_concepts = list()\n",
    "for conceptid, concept in concepts_def.iteritems():\n",
    "    if concept['type'] == 0:\n",
    "        X, y, violate_distance, distances = calculate_distances(conceptid, output_feature_dict)\n",
    "        if violate_distance:\n",
    "            violated_concepts.append(conceptid)\n",
    "print('Number of violated concepts: %s\\nConcept ids:%s' % (len(violated_concepts), violated_concepts))"
   ]
  },
  {
   "cell_type": "markdown",
   "metadata": {},
   "source": [
    "#### 1.2 Check similarity between the dublicated concepts\n",
    "\n",
    "ONLY apply for unmerged data"
   ]
  },
  {
   "cell_type": "code",
   "execution_count": null,
   "metadata": {},
   "outputs": [],
   "source": []
  },
  {
   "cell_type": "markdown",
   "metadata": {},
   "source": [
    "### 2. Experiments with category features"
   ]
  },
  {
   "cell_type": "code",
   "execution_count": null,
   "metadata": {},
   "outputs": [],
   "source": []
  }
 ],
 "metadata": {
  "kernelspec": {
   "display_name": "Python 3",
   "language": "python",
   "name": "python3"
  },
  "language_info": {
   "codemirror_mode": {
    "name": "ipython",
    "version": 3
   },
   "file_extension": ".py",
   "mimetype": "text/x-python",
   "name": "python",
   "nbconvert_exporter": "python",
   "pygments_lexer": "ipython3",
   "version": "3.7.0"
  }
 },
 "nbformat": 4,
 "nbformat_minor": 2
}
