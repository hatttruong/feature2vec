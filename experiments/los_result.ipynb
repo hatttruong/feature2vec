{
 "cells": [
  {
   "cell_type": "code",
   "execution_count": 53,
   "metadata": {},
   "outputs": [],
   "source": [
    "import pandas as pd\n",
    "from os import listdir\n",
    "from os.path import isfile, join\n",
    "import numpy as np\n",
    "import seaborn as sns\n",
    "import matplotlib.pyplot as plt\n",
    "from scipy.stats import norm\n",
    "sns.set(color_codes=True)"
   ]
  },
  {
   "cell_type": "markdown",
   "metadata": {},
   "source": [
    "# Visualize result"
   ]
  },
  {
   "cell_type": "markdown",
   "metadata": {},
   "source": [
    "### 1. Load results"
   ]
  },
  {
   "cell_type": "code",
   "execution_count": 108,
   "metadata": {},
   "outputs": [],
   "source": [
    "feature_set = {'None': 'F-0', \n",
    "               'skipgram_ce_nm_ws_60_dim_100_epoch_1': 'F-SMF-1', \n",
    "               'skipgram_ce_nm_ws_180_dim_100_epoch_1': 'F-SMF-3',\n",
    "               'skipgram_ce_nm_ws_360_dim_100_epoch_1': 'F-SMF-6'}\n",
    "los_set = {'95-percentile': 'G-2',\n",
    "           '90-percentile': 'G-3',\n",
    "           '30-percentile': 'G-5',\n",
    "           '10-percentile': 'G-11',}\n",
    "test_score_names = ['test_acc', \n",
    "                    'test_ami', \n",
    "                    'test_ari',] \n",
    "#                     'test_mi', 'test_mmi', 'test_v_measure']"
   ]
  },
  {
   "cell_type": "code",
   "execution_count": 87,
   "metadata": {},
   "outputs": [],
   "source": [
    "def rename_pretrained_path(x):\n",
    "    if pd.isna(x):\n",
    "        return feature_set['None']\n",
    "    else:\n",
    "        name = x.split('/')[-1].split('.')[0]\n",
    "        return feature_set[name]"
   ]
  },
  {
   "cell_type": "code",
   "execution_count": 330,
   "metadata": {},
   "outputs": [
    {
     "name": "stdout",
     "output_type": "stream",
     "text": [
      "result_paths:  ['../backup/grid_search_result_95percentile.csv', '../backup/grid_search_result_30percentile.csv', '../backup/grid_search_result_90percentile.csv']\n",
      "shape:  (38, 16)\n"
     ]
    }
   ],
   "source": [
    "# get all result files\n",
    "result_dir = '../backup'\n",
    "result_paths = [join(result_dir, f) for f in listdir(result_dir)\n",
    "                if isfile(join(result_dir, f)) and 'grid_search_result' in f]\n",
    "print('result_paths: ', result_paths)\n",
    "\n",
    "# load to dataframe\n",
    "df = pd.concat([pd.read_csv(result_path) for result_path in result_paths], ignore_index=True)\n",
    "\n",
    "# rename\n",
    "df['pretrained_path'] = df['pretrained_path'].apply(rename_pretrained_path)\n",
    "df['los_group'] = df['los_group'].apply(lambda x: los_set[x])\n",
    "df['epoch'] = df['epoch'].apply(lambda x: str(x))\n",
    "df['test_acc'] = df['test_acc'].apply(lambda x: x * 100)\n",
    "df['train_acc'] = df['train_acc'].apply(lambda x: x * 100)\n",
    "print('shape: ', df.shape)\n",
    "\n",
    "# df.head()"
   ]
  },
  {
   "cell_type": "code",
   "execution_count": 171,
   "metadata": {},
   "outputs": [],
   "source": [
    "# df.groupby(['los_group', 'pretrained_path'])['test_acc'].max()"
   ]
  },
  {
   "cell_type": "code",
   "execution_count": 336,
   "metadata": {},
   "outputs": [
    {
     "name": "stdout",
     "output_type": "stream",
     "text": [
      "(8, 16)\n"
     ]
    },
    {
     "data": {
      "text/html": [
       "<div>\n",
       "<style scoped>\n",
       "    .dataframe tbody tr th:only-of-type {\n",
       "        vertical-align: middle;\n",
       "    }\n",
       "\n",
       "    .dataframe tbody tr th {\n",
       "        vertical-align: top;\n",
       "    }\n",
       "\n",
       "    .dataframe thead th {\n",
       "        text-align: right;\n",
       "    }\n",
       "</style>\n",
       "<table border=\"1\" class=\"dataframe\">\n",
       "  <thead>\n",
       "    <tr style=\"text-align: right;\">\n",
       "      <th></th>\n",
       "      <th>avg_loss</th>\n",
       "      <th>epoch</th>\n",
       "      <th>los_group</th>\n",
       "      <th>pretrained_path</th>\n",
       "      <th>test_acc</th>\n",
       "      <th>test_ami</th>\n",
       "      <th>test_ari</th>\n",
       "      <th>test_mi</th>\n",
       "      <th>test_mmi</th>\n",
       "      <th>test_v_measure</th>\n",
       "      <th>train_acc</th>\n",
       "      <th>train_ami</th>\n",
       "      <th>train_ari</th>\n",
       "      <th>train_mi</th>\n",
       "      <th>train_mmi</th>\n",
       "      <th>train_v_measure</th>\n",
       "    </tr>\n",
       "  </thead>\n",
       "  <tbody>\n",
       "    <tr>\n",
       "      <th>0</th>\n",
       "      <td>0.344011</td>\n",
       "      <td>1</td>\n",
       "      <td>G-2</td>\n",
       "      <td>F-0</td>\n",
       "      <td>94.508521</td>\n",
       "      <td>2.609345e-16</td>\n",
       "      <td>0.000000</td>\n",
       "      <td>5.551115e-17</td>\n",
       "      <td>5.551115e-07</td>\n",
       "      <td>5.218690e-16</td>\n",
       "      <td>94.896987</td>\n",
       "      <td>-0.000056</td>\n",
       "      <td>0.001616</td>\n",
       "      <td>0.000024</td>\n",
       "      <td>0.000777</td>\n",
       "      <td>0.000238</td>\n",
       "    </tr>\n",
       "    <tr>\n",
       "      <th>16</th>\n",
       "      <td>1.613678</td>\n",
       "      <td>1</td>\n",
       "      <td>G-5</td>\n",
       "      <td>F-0</td>\n",
       "      <td>41.899727</td>\n",
       "      <td>1.066817e-01</td>\n",
       "      <td>0.092618</td>\n",
       "      <td>1.543419e-01</td>\n",
       "      <td>1.288719e-01</td>\n",
       "      <td>1.266975e-01</td>\n",
       "      <td>41.953769</td>\n",
       "      <td>0.070516</td>\n",
       "      <td>0.077193</td>\n",
       "      <td>0.100778</td>\n",
       "      <td>0.082880</td>\n",
       "      <td>0.081883</td>\n",
       "    </tr>\n",
       "    <tr>\n",
       "      <th>12</th>\n",
       "      <td>0.200101</td>\n",
       "      <td>1</td>\n",
       "      <td>G-2</td>\n",
       "      <td>F-SMF-6</td>\n",
       "      <td>94.508521</td>\n",
       "      <td>2.609345e-16</td>\n",
       "      <td>0.000000</td>\n",
       "      <td>5.551115e-17</td>\n",
       "      <td>5.551115e-07</td>\n",
       "      <td>5.218690e-16</td>\n",
       "      <td>94.911650</td>\n",
       "      <td>0.000037</td>\n",
       "      <td>0.001896</td>\n",
       "      <td>0.000040</td>\n",
       "      <td>0.001429</td>\n",
       "      <td>0.000388</td>\n",
       "    </tr>\n",
       "    <tr>\n",
       "      <th>8</th>\n",
       "      <td>0.202017</td>\n",
       "      <td>1</td>\n",
       "      <td>G-2</td>\n",
       "      <td>F-SMF-1</td>\n",
       "      <td>94.508521</td>\n",
       "      <td>2.609345e-16</td>\n",
       "      <td>0.000000</td>\n",
       "      <td>5.551115e-17</td>\n",
       "      <td>5.551115e-07</td>\n",
       "      <td>5.218690e-16</td>\n",
       "      <td>94.918982</td>\n",
       "      <td>-0.000062</td>\n",
       "      <td>-0.000415</td>\n",
       "      <td>0.000011</td>\n",
       "      <td>0.000561</td>\n",
       "      <td>0.000113</td>\n",
       "    </tr>\n",
       "    <tr>\n",
       "      <th>4</th>\n",
       "      <td>0.199299</td>\n",
       "      <td>1</td>\n",
       "      <td>G-2</td>\n",
       "      <td>F-SMF-3</td>\n",
       "      <td>94.508521</td>\n",
       "      <td>2.609345e-16</td>\n",
       "      <td>0.000000</td>\n",
       "      <td>5.551115e-17</td>\n",
       "      <td>5.551115e-07</td>\n",
       "      <td>5.218690e-16</td>\n",
       "      <td>94.896987</td>\n",
       "      <td>-0.000047</td>\n",
       "      <td>-0.000826</td>\n",
       "      <td>0.000023</td>\n",
       "      <td>0.000824</td>\n",
       "      <td>0.000224</td>\n",
       "    </tr>\n",
       "    <tr>\n",
       "      <th>22</th>\n",
       "      <td>1.210243</td>\n",
       "      <td>3</td>\n",
       "      <td>G-5</td>\n",
       "      <td>F-SMF-3</td>\n",
       "      <td>43.127558</td>\n",
       "      <td>1.092526e-01</td>\n",
       "      <td>0.100796</td>\n",
       "      <td>1.583581e-01</td>\n",
       "      <td>1.273989e-01</td>\n",
       "      <td>1.260196e-01</td>\n",
       "      <td>45.833333</td>\n",
       "      <td>0.114695</td>\n",
       "      <td>0.115534</td>\n",
       "      <td>0.163529</td>\n",
       "      <td>0.128866</td>\n",
       "      <td>0.128045</td>\n",
       "    </tr>\n",
       "    <tr>\n",
       "      <th>34</th>\n",
       "      <td>0.667085</td>\n",
       "      <td>3</td>\n",
       "      <td>G-3</td>\n",
       "      <td>F-0</td>\n",
       "      <td>86.038905</td>\n",
       "      <td>2.842983e-02</td>\n",
       "      <td>0.082334</td>\n",
       "      <td>1.468085e-02</td>\n",
       "      <td>7.380215e-02</td>\n",
       "      <td>5.016545e-02</td>\n",
       "      <td>87.352445</td>\n",
       "      <td>0.020407</td>\n",
       "      <td>0.064090</td>\n",
       "      <td>0.009699</td>\n",
       "      <td>0.061453</td>\n",
       "      <td>0.036985</td>\n",
       "    </tr>\n",
       "    <tr>\n",
       "      <th>28</th>\n",
       "      <td>1.226426</td>\n",
       "      <td>3</td>\n",
       "      <td>G-5</td>\n",
       "      <td>F-SMF-6</td>\n",
       "      <td>43.656207</td>\n",
       "      <td>1.062653e-01</td>\n",
       "      <td>0.096344</td>\n",
       "      <td>1.540732e-01</td>\n",
       "      <td>1.230575e-01</td>\n",
       "      <td>1.218514e-01</td>\n",
       "      <td>46.083628</td>\n",
       "      <td>0.105238</td>\n",
       "      <td>0.111529</td>\n",
       "      <td>0.150093</td>\n",
       "      <td>0.119278</td>\n",
       "      <td>0.118401</td>\n",
       "    </tr>\n",
       "  </tbody>\n",
       "</table>\n",
       "</div>"
      ],
      "text/plain": [
       "    avg_loss epoch los_group pretrained_path   test_acc      test_ami  \\\n",
       "0   0.344011     1       G-2             F-0  94.508521  2.609345e-16   \n",
       "16  1.613678     1       G-5             F-0  41.899727  1.066817e-01   \n",
       "12  0.200101     1       G-2         F-SMF-6  94.508521  2.609345e-16   \n",
       "8   0.202017     1       G-2         F-SMF-1  94.508521  2.609345e-16   \n",
       "4   0.199299     1       G-2         F-SMF-3  94.508521  2.609345e-16   \n",
       "22  1.210243     3       G-5         F-SMF-3  43.127558  1.092526e-01   \n",
       "34  0.667085     3       G-3             F-0  86.038905  2.842983e-02   \n",
       "28  1.226426     3       G-5         F-SMF-6  43.656207  1.062653e-01   \n",
       "\n",
       "    test_ari       test_mi      test_mmi  test_v_measure  train_acc  \\\n",
       "0   0.000000  5.551115e-17  5.551115e-07    5.218690e-16  94.896987   \n",
       "16  0.092618  1.543419e-01  1.288719e-01    1.266975e-01  41.953769   \n",
       "12  0.000000  5.551115e-17  5.551115e-07    5.218690e-16  94.911650   \n",
       "8   0.000000  5.551115e-17  5.551115e-07    5.218690e-16  94.918982   \n",
       "4   0.000000  5.551115e-17  5.551115e-07    5.218690e-16  94.896987   \n",
       "22  0.100796  1.583581e-01  1.273989e-01    1.260196e-01  45.833333   \n",
       "34  0.082334  1.468085e-02  7.380215e-02    5.016545e-02  87.352445   \n",
       "28  0.096344  1.540732e-01  1.230575e-01    1.218514e-01  46.083628   \n",
       "\n",
       "    train_ami  train_ari  train_mi  train_mmi  train_v_measure  \n",
       "0   -0.000056   0.001616  0.000024   0.000777         0.000238  \n",
       "16   0.070516   0.077193  0.100778   0.082880         0.081883  \n",
       "12   0.000037   0.001896  0.000040   0.001429         0.000388  \n",
       "8   -0.000062  -0.000415  0.000011   0.000561         0.000113  \n",
       "4   -0.000047  -0.000826  0.000023   0.000824         0.000224  \n",
       "22   0.114695   0.115534  0.163529   0.128866         0.128045  \n",
       "34   0.020407   0.064090  0.009699   0.061453         0.036985  \n",
       "28   0.105238   0.111529  0.150093   0.119278         0.118401  "
      ]
     },
     "execution_count": 336,
     "metadata": {},
     "output_type": "execute_result"
    }
   ],
   "source": [
    "# keep the max accuracy for each los_group, pretrained_path\n",
    "df.sort_values('epoch', inplace=True)\n",
    "max_accuracy_groups =  df.groupby(['los_group', 'pretrained_path'])['test_acc'].max()\n",
    "best_acc_rows = list()\n",
    "for _, row in df.iterrows():\n",
    "    if len(max_accuracy_groups) == 0:\n",
    "        break\n",
    "    for name in max_accuracy_groups.index:\n",
    "        if row['los_group'] == name[0] and row['pretrained_path'] == name[1] \\\n",
    "            and row['test_acc'] == max_accuracy_groups.loc[name]:\n",
    "            best_acc_rows.append(row)\n",
    "            max_accuracy_groups.drop(name, inplace=True)\n",
    "            break\n",
    "best_acc_df = pd.DataFrame(best_acc_rows)\n",
    "print(best_acc_df.shape)\n",
    "best_acc_df.head(10)"
   ]
  },
  {
   "cell_type": "markdown",
   "metadata": {},
   "source": [
    "### 2.  Evaluate the effectiveness of Skip-MF"
   ]
  },
  {
   "cell_type": "code",
   "execution_count": 293,
   "metadata": {},
   "outputs": [],
   "source": [
    "def visual_effective_skipmf(all_data, los_groups, score='test_acc', ylabel='', fname=None):\n",
    "    # x: pretrained_path, y: accuracy, ami, ari\n",
    "    \n",
    "    nrows = 2\n",
    "    ncols = int(len(los_groups)/2)\n",
    "    f, axes = plt.subplots(nrows, ncols, figsize=(10, 8))\n",
    "    plt.subplots_adjust(wspace=0.3, hspace=0.35)\n",
    "    \n",
    "    x = sorted(best_acc_df['pretrained_path'].unique())\n",
    "    \n",
    "    for index, los_group in enumerate(los_groups):\n",
    "        # filter data\n",
    "        data = all_data[(all_data.los_group == los_group)][['pretrained_path', score]]\n",
    "        data.set_index('pretrained_path', inplace=True)\n",
    "        data.sort_index(inplace=True)\n",
    "        if len(data) != len(x):\n",
    "            continue\n",
    "        \n",
    "        ax = axes[int(index / nrows), index % ncols]\n",
    "        sns_plot = sns.lineplot(x=x, y=data[score].tolist(), palette=\"tab10\", ax=ax)\n",
    "        ax.set_ylabel(ylabel)\n",
    "        ax.set_xlabel('%s' % los_group)\n",
    "\n",
    "    if fname is not None:\n",
    "        f.savefig(fname)"
   ]
  },
  {
   "cell_type": "code",
   "execution_count": 332,
   "metadata": {},
   "outputs": [
    {
     "data": {
      "image/png": "[encoded data removed]",
      "text/plain": [
       "<Figure size 720x576 with 4 Axes>"
      ]
     },
     "metadata": {},
     "output_type": "display_data"
    }
   ],
   "source": [
    "visual_effective_skipmf(best_acc_df, los_groups=los_set.values(), score='test_acc',\n",
    "                        ylabel=\"accuracy (%)\", fname='../backup/effective_skipmf_acc.png')"
   ]
  },
  {
   "cell_type": "code",
   "execution_count": 290,
   "metadata": {},
   "outputs": [],
   "source": [
    "# visual_effective_skipmf(best_acc_df, los_groups=los_set.values(), score='test_ami',\n",
    "#                         ylabel='AMI score', fname='../backup/effective_skipmf_ami.png')"
   ]
  },
  {
   "cell_type": "code",
   "execution_count": 289,
   "metadata": {},
   "outputs": [],
   "source": [
    "# visual_effective_skipmf(best_acc_df, los_groups=los_set.values(), score='test_ari',\n",
    "#                         ylabel='ARI score', fname='../backup/effective_skipmf_ari.png')"
   ]
  },
  {
   "cell_type": "markdown",
   "metadata": {},
   "source": [
    "### 3. Evaluate the effectiveness of different LOS groups\n",
    "- x : los_group, y: scores"
   ]
  },
  {
   "cell_type": "code",
   "execution_count": 321,
   "metadata": {},
   "outputs": [],
   "source": [
    "def visual_effective_los_groups(all_data, pretrained_paths, score='test_acc', ylabel='', fname=None):\n",
    "    # x : los_group, y: scores (accuracy, ami, ari)\n",
    "    \n",
    "    nrows = 2\n",
    "    ncols = int(len(pretrained_paths)/2)\n",
    "    \n",
    "    f, axes = plt.subplots(nrows, ncols, figsize=(10, 8))\n",
    "    plt.subplots_adjust(wspace=0.3, hspace=0.35)\n",
    "    \n",
    "    x = sorted(best_acc_df['los_group'].unique())\n",
    "    \n",
    "    for index, pretrained_path in enumerate(pretrained_paths):\n",
    "        # filter data\n",
    "        data = all_data[(all_data.pretrained_path == pretrained_path)][['los_group', score]]\n",
    "        data.set_index('los_group', inplace=True)\n",
    "        data.sort_index(inplace=True)\n",
    "        if len(data) != len(x):\n",
    "            continue\n",
    "        \n",
    "        ax = axes[int(index / nrows), index % ncols]\n",
    "        sns_plot = sns.lineplot(x=x, y=data[score].tolist(), palette=\"tab10\", ax=ax, markers=True)\n",
    "        ax.set_ylabel(ylabel)\n",
    "        ax.set_xlabel('%s' % pretrained_path)\n",
    "\n",
    "    if fname is not None:\n",
    "        f.savefig(fname)"
   ]
  },
  {
   "cell_type": "code",
   "execution_count": 333,
   "metadata": {},
   "outputs": [
    {
     "data": {
      "image/png": "[encoded data removed]",
      "text/plain": [
       "<Figure size 720x576 with 4 Axes>"
      ]
     },
     "metadata": {},
     "output_type": "display_data"
    }
   ],
   "source": [
    "visual_effective_los_groups(best_acc_df, pretrained_paths=feature_set.values(), score='test_acc',\n",
    "                            ylabel='accuracy(%)', fname='../backup/effective_los_groups_acc.png')"
   ]
  },
  {
   "cell_type": "code",
   "execution_count": 335,
   "metadata": {},
   "outputs": [
    {
     "name": "stdout",
     "output_type": "stream",
     "text": [
      "3\n",
      "2\n",
      "1\n"
     ]
    }
   ],
   "source": [
    "for i in reversed([1,2,3]):\n",
    "    print(i)"
   ]
  },
  {
   "cell_type": "markdown",
   "metadata": {},
   "source": [
    "## 4.  Evaluate the effectiveness of different window size"
   ]
  },
  {
   "cell_type": "code",
   "execution_count": 328,
   "metadata": {},
   "outputs": [],
   "source": [
    "def visual_effective_window_size(all_data, score='test_acc', ylabel='', fname=None):\n",
    "    # x : window size, y: scores (accuracy, ami, ari)\n",
    "    \n",
    "    # filter data\n",
    "    window_sizes = {'F-SMF-1': 60,\n",
    "                    'F-SMF-3': 180,\n",
    "                    'F-SMF-6': 360}\n",
    "    list_data = []\n",
    "    for index, row in all_data.iterrows():\n",
    "        if row['pretrained_path'] in window_sizes:\n",
    "            list_data.append({'window size': window_sizes[row['pretrained_path']],\n",
    "                         row['los_group']: row['test_acc']})\n",
    "    data = pd.DataFrame(list_data)\n",
    "    data.set_index('window size', inplace=True)\n",
    "    data.sort_index(inplace=True)\n",
    "    print(data)\n",
    "    \n",
    "    sns_plot = sns.lineplot(data=data, palette=\"tab10\", markers=True)\n",
    "    sns_plot.set_ylabel(ylabel)\n",
    "    \n",
    "    f = sns_plot.get_figure()\n",
    "    f.set_figure((10,10))\n",
    "    f.show()\n",
    "\n",
    "    if fname is not None:\n",
    "        f.savefig(fname)"
   ]
  },
  {
   "cell_type": "code",
   "execution_count": 329,
   "metadata": {},
   "outputs": [
    {
     "name": "stdout",
     "output_type": "stream",
     "text": [
      "                   G-2\n",
      "window size           \n",
      "60           94.508521\n",
      "180          94.508521\n",
      "360          94.508521\n"
     ]
    },
    {
     "name": "stderr",
     "output_type": "stream",
     "text": [
      "/usr/local/lib/python3.7/site-packages/matplotlib/figure.py:457: UserWarning: matplotlib is currently using a non-GUI backend, so cannot show the figure\n",
      "  \"matplotlib is currently using a non-GUI backend, \"\n"
     ]
    },
    {
     "data": {
      "image/png": "[encoded data removed]",
      "text/plain": [
       "<Figure size 432x288 with 1 Axes>"
      ]
     },
     "metadata": {},
     "output_type": "display_data"
    }
   ],
   "source": [
    "visual_effective_window_size(best_acc_df, score='test_acc', ylabel='accuracy(%)',\n",
    "                            fname='../backup/effective_window_size.png')"
   ]
  },
  {
   "cell_type": "markdown",
   "metadata": {},
   "source": [
    "### *.Evaluate scores over epoch"
   ]
  },
  {
   "cell_type": "code",
   "execution_count": 180,
   "metadata": {},
   "outputs": [],
   "source": [
    "# columns = ['epoch']\n",
    "# columns.extend(test_score_names)\n",
    "# # select epoch having max accuracy\n",
    "# data = df[(df.pretrained_path == 'F-0') & (df.los_group == 'G-5')][columns]\n",
    "# data.set_index('epoch', inplace=True)\n",
    "# data.sort_index(inplace=True)\n",
    "\n",
    "# plt.subplots(figsize=(8, 5))\n",
    "# sns_plot = sns.lineplot(data=data, palette=\"tab10\")\n",
    "# fig = sns_plot.get_figure()\n",
    "# fig.show()"
   ]
  }
 ],
 "metadata": {
  "kernelspec": {
   "display_name": "Python 3",
   "language": "python",
   "name": "python3"
  },
  "language_info": {
   "codemirror_mode": {
    "name": "ipython",
    "version": 3
   },
   "file_extension": ".py",
   "mimetype": "text/x-python",
   "name": "python",
   "nbconvert_exporter": "python",
   "pygments_lexer": "ipython3",
   "version": "3.7.0"
  }
 },
 "nbformat": 4,
 "nbformat_minor": 2
}
